{
 "metadata": {
  "name": "",
  "signature": "sha256:bfe8bbec959448fdcf3dda94df9934fc386ce6152f9fcdfc63ecaa6a36bdbee1"
 },
 "nbformat": 3,
 "nbformat_minor": 0,
 "worksheets": []
}