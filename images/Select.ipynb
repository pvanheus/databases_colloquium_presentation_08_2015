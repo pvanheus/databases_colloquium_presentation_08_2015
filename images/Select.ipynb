{
 "metadata": {
  "name": "",
  "signature": "sha256:25ba3e60db600c1b615586ed585c673b36e88a5aa3cd436077fc9d1e574db7b5"
 },
 "nbformat": 3,
 "nbformat_minor": 0,
 "worksheets": [
  {
   "cells": [
    {
     "cell_type": "code",
     "collapsed": false,
     "input": [
      "from sqlalchemy import and_\n",
      "from seabass_model import *\n",
      "\n",
      "\n",
      "session = get_session('postgres:///seabass_db')\n",
      "species = session.query(Species).filter(Species.common_name == 'seabass').one()\n",
      "query = session.query(Protein.name, \n",
      "                      GoTerm.name, \n",
      "                      GoTerm.namespace).join(Protein.goterms).filter(Protein.species == species).limit(10)"
     ],
     "language": "python",
     "metadata": {},
     "outputs": [],
     "prompt_number": 9
    },
    {
     "cell_type": "code",
     "collapsed": false,
     "input": [
      "for row in query.all():\n",
      "    print(row)"
     ],
     "language": "python",
     "metadata": {},
     "outputs": [
      {
       "output_type": "stream",
       "stream": "stdout",
       "text": [
        "(u'lca1-mRNA-1', u'hormone activity', 'molecular_function')\n",
        "(u'lca1-mRNA-1', u'extracellular region', 'cellular_component')\n",
        "(u'lca2-mRNA-2', u'protein binding', 'molecular_function')\n",
        "(u'lca2-mRNA-2', u'proteolysis', 'biological_process')\n",
        "(u'lca2-mRNA-2', u'protein ubiquitination', 'biological_process')\n",
        "(u'lca3-mRNA-5', u'metal ion binding', 'molecular_function')\n",
        "(u'lca4-mRNA-2', u'transporter activity', 'molecular_function')\n",
        "(u'lca4-mRNA-2', u'transport', 'biological_process')\n",
        "(u'lca4-mRNA-2', u'membrane', 'cellular_component')\n",
        "(u'lca4-mRNA-2', u'transmembrane transport', 'biological_process')\n"
       ]
      }
     ],
     "prompt_number": 10
    },
    {
     "cell_type": "code",
     "collapsed": false,
     "input": [],
     "language": "python",
     "metadata": {},
     "outputs": []
    }
   ],
   "metadata": {}
  }
 ]
}