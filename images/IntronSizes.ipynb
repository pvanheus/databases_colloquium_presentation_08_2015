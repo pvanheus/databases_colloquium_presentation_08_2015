{
 "metadata": {
  "name": "",
  "signature": "sha256:797b22908244e269c0108e5e7628c2f4d2df5dacd2bd6db48fa2c0b894acd94c"
 },
 "nbformat": 3,
 "nbformat_minor": 0,
 "worksheets": [
  {
   "cells": [
    {
     "cell_type": "code",
     "collapsed": false,
     "input": [
      "%matplotlib inline"
     ],
     "language": "python",
     "metadata": {},
     "outputs": [],
     "prompt_number": 1
    },
    {
     "cell_type": "code",
     "collapsed": false,
     "input": [
      "from seabass_model import *\n",
      "\n",
      "session = get_session('postgres:///seabass_db')"
     ],
     "language": "python",
     "metadata": {},
     "outputs": [],
     "prompt_number": 2
    },
    {
     "cell_type": "code",
     "collapsed": false,
     "input": [
      "introns = session.query(Intron)"
     ],
     "language": "python",
     "metadata": {},
     "outputs": [],
     "prompt_number": 3
    },
    {
     "cell_type": "code",
     "collapsed": false,
     "input": [
      "import pylab as P\n",
      "import numpy as N\n",
      "\n",
      "intron_sizes = N.array([(intron.end - intron.start) for intron in introns.all()])\n",
      "log_intron_sizes = N.log(intron_sizes)\n",
      "histogram = P.hist( log_intron_sizes, 100, normed=1, histtype='stepfilled')"
     ],
     "language": "python",
     "metadata": {},
     "outputs": [
      {
       "metadata": {},
       "output_type": "display_data",
       "png": "[encoded data removed]",
       "text": [
        "<matplotlib.figure.Figure at 0x7ff93db58ed0>"
       ]
      }
     ],
     "prompt_number": 11
    },
    {
     "cell_type": "code",
     "collapsed": false,
     "input": [],
     "language": "python",
     "metadata": {},
     "outputs": []
    }
   ],
   "metadata": {}
  }
 ]
}